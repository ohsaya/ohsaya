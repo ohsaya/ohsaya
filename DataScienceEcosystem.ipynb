{
 "cells": [
  {
   "cell_type": "markdown",
   "id": "ea199ef6-0bfb-47ac-a061-92399a57747a",
   "metadata": {},
   "source": [
    "# Data Science Tools and Ecosystem\n"
   ]
  },
  {
   "cell_type": "markdown",
   "id": "cfd47801-415d-427e-8ba0-5342058d02df",
   "metadata": {},
   "source": [
    "In this notebook, Data Science Tools and Ecosystem are summarized."
   ]
  },
  {
   "cell_type": "markdown",
   "id": "9888ab5e-f2a8-4034-84ce-ce9d6305b2f9",
   "metadata": {},
   "source": [
    "Some of the popular languages that Data Scientists use are:"
   ]
  },
  {
   "cell_type": "markdown",
   "id": "f0e7eaa7-b1eb-464b-9ae8-67152c225df7",
   "metadata": {},
   "source": [
    "1. Python\n",
    "2. R\n",
    "3. SQL"
   ]
  },
  {
   "cell_type": "markdown",
   "id": "b71800b4-163e-41b1-8843-7fff07b7a2d4",
   "metadata": {},
   "source": [
    "Some of the commonly used libraries used by Data Scientists include:"
   ]
  },
  {
   "cell_type": "markdown",
   "id": "e1d3830c-a87c-40b8-a2f2-bcbc038985a3",
   "metadata": {},
   "source": [
    "1. Pandas\n",
    "2. NumPy\n",
    "3. Matplotlib\n"
   ]
  },
  {
   "cell_type": "markdown",
   "id": "73f06042-fa89-485f-a821-88454ed14a0b",
   "metadata": {},
   "source": [
    "|Data Science Tools|\n",
    "|------------------|\n",
    "|IBM Watson Studio|\n",
    "|Informatica|\n",
    "|tableau|"
   ]
  },
  {
   "cell_type": "markdown",
   "id": "d667c92a-37d6-47f3-b95f-2d308f4904b3",
   "metadata": {},
   "source": [
    "### Below are a few examples of evaluating arithmetic expressions in Python\n"
   ]
  },
  {
   "cell_type": "code",
   "execution_count": 5,
   "id": "fa9d9b3a-6a77-4eb6-950b-5855241ba442",
   "metadata": {
    "tags": []
   },
   "outputs": [
    {
     "data": {
      "text/plain": [
       "17"
      ]
     },
     "execution_count": 5,
     "metadata": {},
     "output_type": "execute_result"
    }
   ],
   "source": [
    "# This a simple arithmetic expression to mutiply then add integers\n",
    "(3*4)+5"
   ]
  },
  {
   "cell_type": "code",
   "execution_count": 6,
   "id": "b4722030-68a0-4731-ae71-5939f8a14690",
   "metadata": {
    "tags": []
   },
   "outputs": [
    {
     "data": {
      "text/plain": [
       "3.3333333333333335"
      ]
     },
     "execution_count": 6,
     "metadata": {},
     "output_type": "execute_result"
    }
   ],
   "source": [
    "# This will convert 200 minutes to hours by diving by 60\n",
    "200/60"
   ]
  },
  {
   "cell_type": "markdown",
   "id": "205b4001-03a4-452a-8581-e5837401c321",
   "metadata": {},
   "source": [
    "**Objectives:**\n",
    "+ list data science languages\n",
    "+ list data science libraries\n",
    "+ table of Data Science tools"
   ]
  },
  {
   "cell_type": "markdown",
   "id": "c80e4403-f494-4c47-85c3-c2e26115c4e4",
   "metadata": {},
   "source": [
    "## Author\n",
    "Sahithya"
   ]
  },
  {
   "cell_type": "code",
   "execution_count": null,
   "id": "5920fea9-9488-4e05-8ec2-75dac028488b",
   "metadata": {},
   "outputs": [],
   "source": []
  }
 ],
 "metadata": {
  "kernelspec": {
   "display_name": "Python",
   "language": "python",
   "name": "conda-env-python-py"
  },
  "language_info": {
   "codemirror_mode": {
    "name": "ipython",
    "version": 3
   },
   "file_extension": ".py",
   "mimetype": "text/x-python",
   "name": "python",
   "nbconvert_exporter": "python",
   "pygments_lexer": "ipython3",
   "version": "3.7.12"
  }
 },
 "nbformat": 4,
 "nbformat_minor": 5
}
